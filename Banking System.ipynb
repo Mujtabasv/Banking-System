{
 "cells": [
  {
   "cell_type": "code",
   "execution_count": 2,
   "id": "6ab6763b",
   "metadata": {},
   "outputs": [],
   "source": [
    "# Parent Class: User\n",
    "# Holds details About the User.\n",
    "# Has a function to show Details about User(Name, Age, Gender).\n",
    "\n",
    "# Child Class : Bank\n",
    "# Stores details about the Account Balance\n",
    "# Stores Details about amount\n",
    "# Has Functions to Deposit, Withdraw, View Balance."
   ]
  },
  {
   "cell_type": "code",
   "execution_count": 21,
   "id": "a27b8e74",
   "metadata": {},
   "outputs": [],
   "source": [
    "class User:\n",
    "    \n",
    "    def __init__(self, Name, Age, Gender):\n",
    "        \n",
    "        self.Name = Name\n",
    "        self.Age = Age\n",
    "        self.Gender= Gender\n",
    "        \n",
    "    def Details(self):\n",
    "        print('User Details: \\n')\n",
    "        print(f'Name: {self.Name}')\n",
    "        print(f'Age: {self.Age}')\n",
    "        print(f'Gender: {self.Gender}')\n",
    "        \n",
    "        \n",
    "class Bank(User):\n",
    "    \n",
    "    def __init__(self, Name, Age, Gender):\n",
    "        super().__init__(Name, Age, Gender)\n",
    "        self.Balance= 0\n",
    "        \n",
    "    def Deposit(self, Amount):\n",
    "        self.Amount= Amount\n",
    "        \n",
    "        self.Balance += self.Amount\n",
    "        print(f'Your Current Balance after Deposit is: {self.Balance}')\n",
    "        \n",
    "    def Withdraw(self, Amount):\n",
    "        self.Amount= Amount\n",
    "        if self.Amount> self.Balance:\n",
    "            print(f'Insufficient B\n",
    "                  alance, Your Balance is: {self.Balance}')\n",
    "        \n",
    "        else:\n",
    "            self.Balance-= self.Amount\n",
    "            print(f'Your Current Balance after Withdrawal is: {self.Balance}')\n",
    "            \n",
    "    def Show_Balance(self):\n",
    "        print(f'Your Current Balance is: {self.Balance}')\n",
    "        \n",
    "        \n",
    "        "
   ]
  },
  {
   "cell_type": "code",
   "execution_count": 22,
   "id": "5ce31f9a",
   "metadata": {},
   "outputs": [],
   "source": [
    "Muj= Bank('Mujtaba', 20, 'Male')"
   ]
  },
  {
   "cell_type": "code",
   "execution_count": 23,
   "id": "8436181f",
   "metadata": {},
   "outputs": [
    {
     "data": {
      "text/plain": [
       "0"
      ]
     },
     "execution_count": 23,
     "metadata": {},
     "output_type": "execute_result"
    }
   ],
   "source": [
    "Muj.Balance"
   ]
  },
  {
   "cell_type": "code",
   "execution_count": 24,
   "id": "88bb829c",
   "metadata": {},
   "outputs": [
    {
     "name": "stdout",
     "output_type": "stream",
     "text": [
      "Insufficient Balance, Your Balance is: 0\n"
     ]
    }
   ],
   "source": [
    "Muj.Withdraw(100)"
   ]
  },
  {
   "cell_type": "code",
   "execution_count": 27,
   "id": "0bc59dee",
   "metadata": {},
   "outputs": [
    {
     "name": "stdout",
     "output_type": "stream",
     "text": [
      "User Details: \n",
      "\n",
      "Name: Mujtaba\n",
      "Age: 20\n",
      "Gender: Male\n"
     ]
    }
   ],
   "source": [
    "Muj.Details()"
   ]
  },
  {
   "cell_type": "code",
   "execution_count": 28,
   "id": "cfc76ab2",
   "metadata": {},
   "outputs": [
    {
     "name": "stdout",
     "output_type": "stream",
     "text": [
      "Your Current Balance after Deposit is: 8400\n"
     ]
    }
   ],
   "source": [
    "Muj.Deposit(8400)"
   ]
  },
  {
   "cell_type": "code",
   "execution_count": 29,
   "id": "b14907c7",
   "metadata": {},
   "outputs": [
    {
     "name": "stdout",
     "output_type": "stream",
     "text": [
      "Your Current Balance after Deposit is: 9400\n"
     ]
    }
   ],
   "source": [
    "Muj.Deposit(1000)"
   ]
  },
  {
   "cell_type": "code",
   "execution_count": 30,
   "id": "ca0b5791",
   "metadata": {},
   "outputs": [
    {
     "data": {
      "text/plain": [
       "9400"
      ]
     },
     "execution_count": 30,
     "metadata": {},
     "output_type": "execute_result"
    }
   ],
   "source": [
    "Muj.Balance"
   ]
  },
  {
   "cell_type": "code",
   "execution_count": 32,
   "id": "dbfd1d6b",
   "metadata": {},
   "outputs": [
    {
     "name": "stdout",
     "output_type": "stream",
     "text": [
      "Your Current Balance is: 9400\n"
     ]
    }
   ],
   "source": [
    "Muj.Show_Balance()"
   ]
  },
  {
   "cell_type": "code",
   "execution_count": 33,
   "id": "15b52b14",
   "metadata": {},
   "outputs": [
    {
     "name": "stdout",
     "output_type": "stream",
     "text": [
      "Your Current Balance after Deposit is: 10350\n"
     ]
    }
   ],
   "source": [
    "Muj.Deposit(950)"
   ]
  },
  {
   "cell_type": "code",
   "execution_count": 34,
   "id": "97063d5b",
   "metadata": {},
   "outputs": [
    {
     "name": "stdout",
     "output_type": "stream",
     "text": [
      "Your Current Balance after Withdrawal is: 9430\n"
     ]
    }
   ],
   "source": [
    "Muj.Withdraw(920)"
   ]
  },
  {
   "cell_type": "code",
   "execution_count": null,
   "id": "3498916e",
   "metadata": {},
   "outputs": [],
   "source": []
  }
 ],
 "metadata": {
  "kernelspec": {
   "display_name": "Python 3 (ipykernel)",
   "language": "python",
   "name": "python3"
  },
  "language_info": {
   "codemirror_mode": {
    "name": "ipython",
    "version": 3
   },
   "file_extension": ".py",
   "mimetype": "text/x-python",
   "name": "python",
   "nbconvert_exporter": "python",
   "pygments_lexer": "ipython3",
   "version": "3.11.5"
  }
 },
 "nbformat": 4,
 "nbformat_minor": 5
}
